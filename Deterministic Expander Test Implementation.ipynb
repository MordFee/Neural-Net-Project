{
 "cells": [
  {
   "cell_type": "code",
   "execution_count": 1,
   "metadata": {
    "collapsed": true
   },
   "outputs": [],
   "source": [
    "import numpy as np"
   ]
  },
  {
   "cell_type": "code",
   "execution_count": null,
   "metadata": {
    "collapsed": true
   },
   "outputs": [],
   "source": [
    "def deterministic_expander(layer_size_1,layer_size_2,degree):\n",
    "    #Find out which layer is largest in order to know which dimension to reduce later\n",
    "    if layer_size_1 >= layer_size_2:\n",
    "        largest_layer = layer_size_1\n",
    "        smallest_layer = layer_size_2\n",
    "        first_layer = True\n",
    "    else:\n",
    "        largest_layer = layer_size_2\n",
    "        smallest_layer = layer_size_1\n",
    "        first_layer = False\n",
    "    \n",
    "    "
   ]
  }
 ],
 "metadata": {
  "kernelspec": {
   "display_name": "Python 2",
   "language": "python",
   "name": "python2"
  },
  "language_info": {
   "codemirror_mode": {
    "name": "ipython",
    "version": 2
   },
   "file_extension": ".py",
   "mimetype": "text/x-python",
   "name": "python",
   "nbconvert_exporter": "python",
   "pygments_lexer": "ipython2",
   "version": "2.7.11"
  }
 },
 "nbformat": 4,
 "nbformat_minor": 0
}
