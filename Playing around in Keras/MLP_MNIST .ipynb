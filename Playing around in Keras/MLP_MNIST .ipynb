{
 "metadata": {
  "name": "",
  "signature": "sha256:b60118f1354d3e210c403bb3a7f90bcc85e072e32077901cce8a3d47ddfa71e7"
 },
 "nbformat": 3,
 "nbformat_minor": 0,
 "worksheets": [
  {
   "cells": [
    {
     "cell_type": "code",
     "collapsed": false,
     "input": [
      "import numpy as np\n",
      "from mnist_reader import *"
     ],
     "language": "python",
     "metadata": {},
     "outputs": [],
     "prompt_number": 1
    },
    {
     "cell_type": "markdown",
     "metadata": {},
     "source": [
      "First import the MNIST dataset from training and testing splits"
     ]
    },
    {
     "cell_type": "code",
     "collapsed": false,
     "input": [
      "X_train, y_train = load_mnist(dataset='training')\n",
      "X_test, y_test = load_mnist(dataset='testing')"
     ],
     "language": "python",
     "metadata": {},
     "outputs": [],
     "prompt_number": 6
    },
    {
     "cell_type": "markdown",
     "metadata": {},
     "source": [
      "Flatten the dataset"
     ]
    },
    {
     "cell_type": "code",
     "collapsed": false,
     "input": [
      "X_train = X_train.reshape([len(X_train),28*28])\n",
      "X_test = X_test.reshape([len(X_test),28*28])"
     ],
     "language": "python",
     "metadata": {},
     "outputs": [],
     "prompt_number": 8
    },
    {
     "cell_type": "markdown",
     "metadata": {},
     "source": [
      "Convert the testing dataset to binary output"
     ]
    },
    {
     "cell_type": "code",
     "collapsed": false,
     "input": [
      "from keras.utils import np_utils"
     ],
     "language": "python",
     "metadata": {},
     "outputs": [],
     "prompt_number": 16
    },
    {
     "cell_type": "code",
     "collapsed": false,
     "input": [
      "y_train = np_utils.to_categorical(y_train)"
     ],
     "language": "python",
     "metadata": {},
     "outputs": [],
     "prompt_number": 17
    },
    {
     "cell_type": "markdown",
     "metadata": {},
     "source": [
      "Creat a 3 layer MLP with the following:\n",
      "\n",
      "    Input -- 784 8-bit uint vector\n",
      "    \n",
      "    Input-L1 : fully connected\n",
      "    \n",
      "    L1 -- 128 node layer with sigmoid activation\n",
      "    \n",
      "    L1 - L2 : fully connected\n",
      "    \n",
      "    L2 : 64 node layer with simgoid activation\n",
      "    \n",
      "    L2 - Output : fully connected\n",
      "    \n",
      "    Output : 10 node layer output\n"
     ]
    },
    {
     "cell_type": "code",
     "collapsed": false,
     "input": [
      "input_num = X_train.shape[1]\n",
      "layer1_num = 128\n",
      "layer2_num = 64\n",
      "output_num = y_train.shape[1]"
     ],
     "language": "python",
     "metadata": {},
     "outputs": [],
     "prompt_number": 21
    },
    {
     "cell_type": "markdown",
     "metadata": {},
     "source": [
      "Set up the layers"
     ]
    },
    {
     "cell_type": "code",
     "collapsed": false,
     "input": [
      "from keras.models import Sequential\n",
      "from keras.layers.core import Dense, Dropout, Activation\n",
      "from keras.optimizers import SGD\n",
      "\n",
      "model = Sequential()\n",
      "model.add(Dense(input_num,layer1_num))\n",
      "model.add(Activation('sigmoid'))\n",
      "model.add(Dense(layer1_num,layer2_num))\n",
      "model.add(Activation('sigmoid'))\n",
      "model.add(Dense(layer2_num,output_num))\n",
      "model.add(Activation('sigmoid'))\n",
      "\n",
      "model.compile(loss='mse',optimizer='rmsprop')"
     ],
     "language": "python",
     "metadata": {},
     "outputs": [],
     "prompt_number": 22
    },
    {
     "cell_type": "markdown",
     "metadata": {},
     "source": [
      "Training Step"
     ]
    },
    {
     "cell_type": "code",
     "collapsed": false,
     "input": [
      "model.fit(X_train, y_train, nb_epoch=10, batch_size=16, validation_split=0.1, show_accuracy=True, verbose=2)"
     ],
     "language": "python",
     "metadata": {},
     "outputs": [
      {
       "output_type": "stream",
       "stream": "stdout",
       "text": [
        "Train on 54000 samples, validate on 6000 samples\n",
        "Epoch 0\n",
        "33s - loss: 0.0367 - acc: 0.7900 - val_loss: 0.0154 - val_acc: 0.9153\n"
       ]
      },
      {
       "output_type": "stream",
       "stream": "stdout",
       "text": [
        "Epoch 1\n",
        "35s - loss: 0.0164 - acc: 0.9015 - val_loss: 0.0121 - val_acc: 0.9257\n"
       ]
      },
      {
       "output_type": "stream",
       "stream": "stdout",
       "text": [
        "Epoch 2\n",
        "38s - loss: 0.0137 - acc: 0.9160 - val_loss: 0.0102 - val_acc: 0.9385\n"
       ]
      },
      {
       "output_type": "stream",
       "stream": "stdout",
       "text": [
        "Epoch 3\n",
        "39s - loss: 0.0123 - acc: 0.9239 - val_loss: 0.0096 - val_acc: 0.9395\n"
       ]
      },
      {
       "output_type": "stream",
       "stream": "stdout",
       "text": [
        "Epoch 4\n",
        "42s - loss: 0.0114 - acc: 0.9291 - val_loss: 0.0089 - val_acc: 0.9450\n"
       ]
      },
      {
       "output_type": "stream",
       "stream": "stdout",
       "text": [
        "Epoch 5\n",
        "41s - loss: 0.0107 - acc: 0.9333 - val_loss: 0.0083 - val_acc: 0.9508\n"
       ]
      },
      {
       "output_type": "stream",
       "stream": "stdout",
       "text": [
        "Epoch 6\n",
        "43s - loss: 0.0102 - acc: 0.9363 - val_loss: 0.0080 - val_acc: 0.9503\n"
       ]
      },
      {
       "output_type": "stream",
       "stream": "stdout",
       "text": [
        "Epoch 7\n",
        "44s - loss: 0.0096 - acc: 0.9406 - val_loss: 0.0073 - val_acc: 0.9550\n"
       ]
      },
      {
       "output_type": "stream",
       "stream": "stdout",
       "text": [
        "Epoch 8\n",
        "46s - loss: 0.0092 - acc: 0.9428 - val_loss: 0.0071 - val_acc: 0.9572\n"
       ]
      },
      {
       "output_type": "stream",
       "stream": "stdout",
       "text": [
        "Epoch 9\n",
        "47s - loss: 0.0089 - acc: 0.9451 - val_loss: 0.0072 - val_acc: 0.9567\n"
       ]
      },
      {
       "metadata": {},
       "output_type": "pyout",
       "prompt_number": 23,
       "text": [
        "<keras.callbacks.History at 0xfde5320>"
       ]
      }
     ],
     "prompt_number": 23
    },
    {
     "cell_type": "code",
     "collapsed": false,
     "input": [
      "preds = model.predict_classes(X_test, verbose=0)"
     ],
     "language": "python",
     "metadata": {},
     "outputs": [],
     "prompt_number": 24
    },
    {
     "cell_type": "code",
     "collapsed": false,
     "input": [
      "from sklearn import metrics"
     ],
     "language": "python",
     "metadata": {},
     "outputs": [],
     "prompt_number": 25
    },
    {
     "cell_type": "code",
     "collapsed": false,
     "input": [
      "y_test = np.squeeze(y_test)"
     ],
     "language": "python",
     "metadata": {},
     "outputs": [],
     "prompt_number": 38
    },
    {
     "cell_type": "code",
     "collapsed": false,
     "input": [
      "sum(y_test==preds)/len(y_test)"
     ],
     "language": "python",
     "metadata": {},
     "outputs": [
      {
       "metadata": {},
       "output_type": "pyout",
       "prompt_number": 45,
       "text": [
        "0.94259999999999999"
       ]
      }
     ],
     "prompt_number": 45
    }
   ],
   "metadata": {}
  }
 ]
}