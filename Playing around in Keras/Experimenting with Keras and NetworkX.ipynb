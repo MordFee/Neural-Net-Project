{
 "cells": [
  {
   "cell_type": "code",
   "execution_count": 47,
   "metadata": {
    "collapsed": false
   },
   "outputs": [],
   "source": [
    "import networkx as nx\n",
    "from keras.models import Sequential\n",
    "from keras.layers.core import Dense, Activation\n",
    "from keras.optimizers import SGD\n",
    "from keras.utils import np_utils\n",
    "import keras\n",
    "import numpy as np\n",
    "import matplotlib\n",
    "import re\n",
    "from sklearn import metrics\n",
    "\n",
    "%matplotlib inline"
   ]
  },
  {
   "cell_type": "markdown",
   "metadata": {},
   "source": [
    "Generate a very simple classification task:\n",
    "\n",
    "X with 3 features following a uniform dist.\n",
    "Y labels for values greater .7 for each feature"
   ]
  },
  {
   "cell_type": "code",
   "execution_count": 10,
   "metadata": {
    "collapsed": false
   },
   "outputs": [],
   "source": [
    "numTrainSamples = 10000\n",
    "numTestSamples = 3000\n",
    "numFeatures = 3\n",
    "thresh = .5\n",
    "X_train = np.random.rand(numTrainSamples,numFeatures)\n",
    "Y_train = np.all(X_train>thresh,axis=1)\n",
    "\n",
    "X_test = np.random.rand(numTestSamples,numFeatures)\n",
    "Y_test = np.all(X_test>thresh,axis=1)\n",
    "\n",
    "Y_train = np_utils.to_categorical(Y_train)"
   ]
  },
  {
   "cell_type": "markdown",
   "metadata": {},
   "source": [
    "Set up the Network"
   ]
  },
  {
   "cell_type": "code",
   "execution_count": 114,
   "metadata": {
    "collapsed": false
   },
   "outputs": [],
   "source": [
    "input_num = X_train.shape[1]\n",
    "output_num = Y_train.shape[1]\n",
    "layers = [input_num,100,100,output_num]\n",
    "layerNames = ['input','L1','L2','output']\n",
    "\n",
    "model = Sequential()\n",
    "for ix,i in enumerate(layers):\n",
    "    if(ix <len(layers)-1):\n",
    "        model.add(Dense(i,layers[ix+1]))#,weights=[np.random.randint(2,size=(i,layers[ix+1]))]))\n",
    "        model.add(Activation('sigmoid'))\n",
    "\n",
    "model.compile(loss='mse',optimizer='rmsprop')"
   ]
  },
  {
   "cell_type": "markdown",
   "metadata": {},
   "source": [
    "Display the model as a Network"
   ]
  },
  {
   "cell_type": "code",
   "execution_count": 115,
   "metadata": {
    "collapsed": false
   },
   "outputs": [],
   "source": [
    "originalGraph = kerasToGraph(model,layerNames)"
   ]
  },
  {
   "cell_type": "code",
   "execution_count": 75,
   "metadata": {
    "collapsed": false
   },
   "outputs": [
    {
     "name": "stdout",
     "output_type": "stream",
     "text": [
      "input_1\n",
      "L1_0\n",
      "L1_2\n",
      "L1_1\n",
      "output_0\n",
      "input_0\n",
      "output_1\n",
      "input_2\n"
     ]
    }
   ],
   "source": [
    "for x in originalGraph.nodes():\n",
    "    print(x)"
   ]
  },
  {
   "cell_type": "code",
   "execution_count": 76,
   "metadata": {
    "collapsed": false
   },
   "outputs": [
    {
     "data": {
      "text/plain": [
       "[('input_1', 'L1_1'), ('input_0', 'L1_1'), ('input_2', 'L1_1')]"
      ]
     },
     "execution_count": 76,
     "metadata": {},
     "output_type": "execute_result"
    }
   ],
   "source": [
    "get_connected_nodes(originalGraph,'L1_1')"
   ]
  },
  {
   "cell_type": "code",
   "execution_count": 61,
   "metadata": {
    "collapsed": false
   },
   "outputs": [
    {
     "name": "stdout",
     "output_type": "stream",
     "text": [
      "{'output_0': 'mse', 'output_1': 'mse'}\n"
     ]
    },
    {
     "ename": "AttributeError",
     "evalue": "'float' object has no attribute 'name'",
     "output_type": "error",
     "traceback": [
      "\u001b[1;31m---------------------------------------------------------------------------\u001b[0m",
      "\u001b[1;31mAttributeError\u001b[0m                            Traceback (most recent call last)",
      "\u001b[1;32m<ipython-input-61-e95e75eb5c14>\u001b[0m in \u001b[0;36m<module>\u001b[1;34m()\u001b[0m\n\u001b[1;32m----> 1\u001b[1;33m \u001b[0mgraph_to_keras\u001b[0m\u001b[1;33m(\u001b[0m\u001b[0moriginalGraph\u001b[0m\u001b[1;33m,\u001b[0m\u001b[0mlayerNames\u001b[0m\u001b[1;33m,\u001b[0m\u001b[0mweightInitialization\u001b[0m \u001b[1;33m=\u001b[0m \u001b[1;34m'uniform'\u001b[0m\u001b[1;33m)\u001b[0m\u001b[1;33m\u001b[0m\u001b[0m\n\u001b[0m",
      "\u001b[1;32m<ipython-input-60-b90acf98e78c>\u001b[0m in \u001b[0;36mgraph_to_keras\u001b[1;34m(graph, layerNames, weightInitialization, weights, activationFunction, nDim)\u001b[0m\n\u001b[0;32m     28\u001b[0m     \u001b[0moutputDict\u001b[0m \u001b[1;33m=\u001b[0m \u001b[1;33m{\u001b[0m\u001b[0mnode\u001b[0m \u001b[1;33m:\u001b[0m \u001b[1;34m'mse'\u001b[0m \u001b[1;32mfor\u001b[0m \u001b[0mnode\u001b[0m \u001b[1;32min\u001b[0m \u001b[0moutputNodes\u001b[0m\u001b[1;33m}\u001b[0m\u001b[1;33m\u001b[0m\u001b[0m\n\u001b[0;32m     29\u001b[0m     \u001b[0mprint\u001b[0m\u001b[1;33m(\u001b[0m\u001b[0moutputDict\u001b[0m\u001b[1;33m)\u001b[0m\u001b[1;33m\u001b[0m\u001b[0m\n\u001b[1;32m---> 30\u001b[1;33m     \u001b[0mmodel\u001b[0m\u001b[1;33m.\u001b[0m\u001b[0mcompile\u001b[0m\u001b[1;33m(\u001b[0m\u001b[0moptimizer\u001b[0m\u001b[1;33m=\u001b[0m\u001b[1;34m'rmsprop'\u001b[0m\u001b[1;33m,\u001b[0m \u001b[0mloss\u001b[0m\u001b[1;33m=\u001b[0m\u001b[0moutputDict\u001b[0m\u001b[1;33m)\u001b[0m\u001b[1;33m\u001b[0m\u001b[0m\n\u001b[0m\u001b[0;32m     31\u001b[0m     \u001b[1;32mreturn\u001b[0m\u001b[1;33m(\u001b[0m\u001b[0mmodel\u001b[0m\u001b[1;33m)\u001b[0m\u001b[1;33m\u001b[0m\u001b[0m\n\u001b[0;32m     32\u001b[0m \u001b[1;33m\u001b[0m\u001b[0m\n",
      "\u001b[1;32mC:\\Users\\Patrick\\Anaconda3\\lib\\site-packages\\keras\\models.py\u001b[0m in \u001b[0;36mcompile\u001b[1;34m(self, optimizer, loss, theano_mode)\u001b[0m\n\u001b[0;32m    598\u001b[0m             \u001b[0mtest_loss\u001b[0m \u001b[1;33m+=\u001b[0m \u001b[0mweighted_loss\u001b[0m\u001b[1;33m(\u001b[0m\u001b[0my\u001b[0m\u001b[1;33m,\u001b[0m \u001b[0my_test\u001b[0m\u001b[1;33m,\u001b[0m \u001b[0mweight\u001b[0m\u001b[1;33m,\u001b[0m \u001b[0mmask\u001b[0m\u001b[1;33m)\u001b[0m\u001b[1;33m\u001b[0m\u001b[0m\n\u001b[0;32m    599\u001b[0m \u001b[1;33m\u001b[0m\u001b[0m\n\u001b[1;32m--> 600\u001b[1;33m         \u001b[0mtrain_loss\u001b[0m\u001b[1;33m.\u001b[0m\u001b[0mname\u001b[0m \u001b[1;33m=\u001b[0m \u001b[1;34m'train_loss'\u001b[0m\u001b[1;33m\u001b[0m\u001b[0m\n\u001b[0m\u001b[0;32m    601\u001b[0m         \u001b[0mtest_loss\u001b[0m\u001b[1;33m.\u001b[0m\u001b[0mname\u001b[0m \u001b[1;33m=\u001b[0m \u001b[1;34m'test_loss'\u001b[0m\u001b[1;33m\u001b[0m\u001b[0m\n\u001b[0;32m    602\u001b[0m \u001b[1;33m\u001b[0m\u001b[0m\n",
      "\u001b[1;31mAttributeError\u001b[0m: 'float' object has no attribute 'name'"
     ]
    }
   ],
   "source": [
    "graph_to_keras(originalGraph,layerNames,weightInitialization = 'uniform')"
   ]
  },
  {
   "cell_type": "code",
   "execution_count": 18,
   "metadata": {
    "collapsed": false
   },
   "outputs": [
    {
     "data": {
      "image/png": "[encoded data removed]",
      "text/plain": [
       "<matplotlib.figure.Figure at 0x8c94b70>"
      ]
     },
     "metadata": {},
     "output_type": "display_data"
    }
   ],
   "source": [
    "plotForwardNeuralNet(originalGraph,layerNames,weighted=True)"
   ]
  },
  {
   "cell_type": "markdown",
   "metadata": {},
   "source": [
    "##Questions:\n",
    "Annealing v. Fixing? How to isolate impact? and follow up: <br /> \n",
    "\\How to get uniform on all parameters but one to isolate impact in graph initialization? <br /> \n"
   ]
  },
  {
   "cell_type": "markdown",
   "metadata": {},
   "source": [
    "Train the model"
   ]
  },
  {
   "cell_type": "code",
   "execution_count": 204,
   "metadata": {
    "collapsed": false
   },
   "outputs": [
    {
     "data": {
      "text/plain": [
       "<keras.callbacks.History at 0xeae3f60>"
      ]
     },
     "execution_count": 204,
     "metadata": {},
     "output_type": "execute_result"
    }
   ],
   "source": [
    "model.fit(X_train, Y_train, nb_epoch=1000, batch_size=9000, validation_split=0.1, show_accuracy=True,verbose=0)"
   ]
  },
  {
   "cell_type": "code",
   "execution_count": 205,
   "metadata": {
    "collapsed": false
   },
   "outputs": [
    {
     "name": "stdout",
     "output_type": "stream",
     "text": [
      "3000/3000 [==============================] - 0s     \n"
     ]
    },
    {
     "data": {
      "text/plain": [
       "array([[2638,    0],\n",
       "       [ 362,    0]])"
      ]
     },
     "execution_count": 205,
     "metadata": {},
     "output_type": "execute_result"
    }
   ],
   "source": [
    "preds = model.predict_classes(X_test)\n",
    "metrics.confusion_matrix(Y_test,preds)"
   ]
  },
  {
   "cell_type": "code",
   "execution_count": 206,
   "metadata": {
    "collapsed": false
   },
   "outputs": [
    {
     "data": {
      "image/png": "[encoded data removed]",
      "text/plain": [
       "<matplotlib.figure.Figure at 0xeae3550>"
      ]
     },
     "metadata": {},
     "output_type": "display_data"
    }
   ],
   "source": [
    "trainedGraph = kerasToGraph(model,layerNames)\n",
    "plotForwardNeuralNet(trainedGraph,layerNames,weighted=True)"
   ]
  },
  {
   "cell_type": "code",
   "execution_count": 220,
   "metadata": {
    "collapsed": false
   },
   "outputs": [
    {
     "data": {
      "text/plain": [
       "{'L1_0': 0.14729179694992722,\n",
       " 'L1_1': 0.053847832389729386,\n",
       " 'L1_2': 0.16237670107178254,\n",
       " 'input_0': 0.065498609500934266,\n",
       " 'input_1': 0.065498609500934266,\n",
       " 'input_2': 0.065498609500934266,\n",
       " 'output_0': 0.39828775219440349,\n",
       " 'output_1': 0.041700088891354584}"
      ]
     },
     "execution_count": 220,
     "metadata": {},
     "output_type": "execute_result"
    }
   ],
   "source": [
    "nx.pagerank(trainedGraph)"
   ]
  },
  {
   "cell_type": "markdown",
   "metadata": {
    "collapsed": true
   },
   "source": [
    "## Util Functions"
   ]
  },
  {
   "cell_type": "code",
   "execution_count": 14,
   "metadata": {
    "collapsed": false
   },
   "outputs": [],
   "source": [
    "def graphAddLayer(graph, fromLayer,toLayer,connectionMatrix,threshhold=0,sep='_'):\n",
    "    '''\n",
    "    This method grows a graph according to non-zero connection matrix for to layers in a neural net\n",
    "    This method takes as inputs:\n",
    "    -a NetworkX object, graph\n",
    "    -the name of the fromLayer and toLayer\n",
    "    -a connection matrix of dimension fromLayer x toLayer\n",
    "    and returns:\n",
    "    -the grown graph\n",
    "    '''\n",
    "    fromNodeNames = list(map(lambda x: str(fromLayer) + sep + str(x),range(connectionMatrix.shape[0]))) #generate the names for the fromLayer\n",
    "    toNodeNames = list(map(lambda x: str(toLayer) + sep + str(x),range(connectionMatrix.shape[1]))) #generate the names for the toLayer\n",
    "    \n",
    "    #add the nodes to the graph\n",
    "    graph.add_nodes_from(fromNodeNames + toNodeNames)\n",
    "    \n",
    "    booleanMatrix = np.abs(connectionMatrix) > threshhold \n",
    "    \n",
    "    #generate the edges\n",
    "    edges = []\n",
    "    for fromIX,fromNode in enumerate(fromNodeNames):\n",
    "        for toIX,toNode in enumerate(toNodeNames):\n",
    "            if(booleanMatrix[fromIX][toIX]):\n",
    "                edges.append((fromNode,toNode, connectionMatrix[fromIX][toIX]))\n",
    "    graph.add_weighted_edges_from(edges)\n",
    "    \n",
    "    return graph"
   ]
  },
  {
   "cell_type": "code",
   "execution_count": 13,
   "metadata": {
    "collapsed": false
   },
   "outputs": [],
   "source": [
    "def plotForwardNeuralNet(graph,layerNames,weighted=False, scaling= lambda x:x):\n",
    "    '''\n",
    "    This function returns a matplotlib object of a bipartite neural net\n",
    "    It takes as input:\n",
    "    -a NetworkX Graph\n",
    "    -a list of layer names (could be deprecated with a regex but w/e)\n",
    "    '''\n",
    "    \n",
    "    ##TODO: Make it return the Matplotlib object or figure isntead of automatically drawing\n",
    "    \n",
    "    listOfLayers = separateLayers(graph.nodes(),layerNames)\n",
    "    positions = dict()\n",
    "    for ix,layer in enumerate(listOfLayers):\n",
    "        positions.update((n, (ix, i*(1-2*(i%2)))) for i, n in enumerate(layer))\n",
    "    if weighted:\n",
    "        nx.draw_networkx_nodes(graph,pos=positions) #draw the nodes\n",
    "        #Loop through each edge \n",
    "        for (fromNode,toNode,weight) in graph.edges(data=True):\n",
    "            nx.draw_networkx_edges(graph,positions,edgelist=[(fromNode,toNode)],width=scaling(weight['weight']))\n",
    "    else:\n",
    "        nx.draw(graph, pos=positions)"
   ]
  },
  {
   "cell_type": "code",
   "execution_count": 12,
   "metadata": {
    "collapsed": false
   },
   "outputs": [],
   "source": [
    "def kerasToGraph(model,layerNames,threshhold=0): #can change to list of threshholds or some methods or something\n",
    "    '''\n",
    "    This function converts a keras neural network to a NetworkX graph\n",
    "    Inputs:\n",
    "    -model, the keras model\n",
    "    -layerNames, the list of layer names\n",
    "    -threshhold(optional) - the absolute value above which the edge should be drawn\n",
    "    '''\n",
    "    graph = nx.DiGraph() #Use directed graph for now\n",
    "    for ix,layerName in enumerate(layerNames):\n",
    "        if ix >0:\n",
    "            graph = graphAddLayer(graph,layerNames[ix-1],layerNames[ix],model.get_weights()[(ix-1)*2],threshhold)\n",
    "    return(graph)\n",
    "    "
   ]
  },
  {
   "cell_type": "code",
   "execution_count": 17,
   "metadata": {
    "collapsed": true
   },
   "outputs": [],
   "source": [
    "def separateLayers(listOfNodes,layerNames,sep='_'):\n",
    "    \"\"\"\n",
    "    This function identifies the layers of a neural network based on the names of the layers\n",
    "    Inputs:\n",
    "    -a list of strings corresponding to nodes in a graph\n",
    "    -a list of layer names\n",
    "    Returns:\n",
    "    -a list of lists with the names of nodes of each layer in a separate list\n",
    "    \"\"\"\n",
    "    layers =[]\n",
    "    for layer in layerNames:\n",
    "        temp = []\n",
    "        for node in listOfNodes:\n",
    "            if re.search(layer+sep,node):\n",
    "                temp.append(node)\n",
    "        layers.append(temp)\n",
    "    return layers"
   ]
  },
  {
   "cell_type": "code",
   "execution_count": 108,
   "metadata": {
    "collapsed": false
   },
   "outputs": [],
   "source": [
    "def graph_to_keras(graph,layerNames,weightInitialization = 'uniform',weights=None,activationFunction='sigmoid',nDim = 2):\n",
    "    '''\n",
    "    This function builds a neural network from a sequential bipartite graph with defined edges\n",
    "    inputs:\n",
    "        - graph : a NetworkX graph in the order L1..-Ln-output, each specifying the connection of the previous layer to that layer, ie) there are Layers-1 graphs\n",
    "        - layer_names : a list of names to assign to each layer, the nodes will have the subscript _X\n",
    "        - weight_initialization : the function to initialize the weights, default uniform\n",
    "        - weights : a predefined list of weights with each index corresponding to the layer connections, overloads weight_initialization\n",
    "        - activation_function : the activation function from keras to be incorporated for all layers, TODO: make it variable ased on each layer\n",
    "\n",
    "    output:\n",
    "        - keras model\n",
    "    '''\n",
    "    \n",
    "    #begin constructing the model\n",
    "    model = keras.models.Graph()\n",
    "    #add the input, get the number of I/O from the graphs\n",
    "    inputNodes = get_nodes_with_string(graph,layerNames[0])\n",
    "    for inputNode in inputNodes: #if it's input, make it input\n",
    "        model.add_input(name=inputNode, ndim=2)\n",
    "    for ix,layerName in enumerate(layerNames[1:]):\n",
    "        nodes=get_nodes_with_string(graph,layerName)\n",
    "        for ix,node in enumerate(nodes):\n",
    "            connectedNodes = get_connected_nodes(originalGraph,node)\n",
    "            if layerName == layerNames[-1]: # if it's output, make it output\n",
    "                if  len(connectedNodes) == 0:\n",
    "                    continue\n",
    "                if len(connectedNodes) == 1:\n",
    "                    model.add_output(name=node,input= connectedNodes[0][0])\n",
    "                else:\n",
    "                    model.add_output(name=node,inputs=[i[0] for i in connectedNodes])\n",
    "            else: #other wise, pairwise connect it with the last layer, super slow i imagine\n",
    "                if  len(connectedNodes) == 0:\n",
    "                        continue\n",
    "                if len(connectedNodes) == 1:\n",
    "                    model.add_node(keras.layers.core.Dense(1,1,activation=activationFunction),name=node,input= connectedNodes[0][0])\n",
    "                else:\n",
    "                    model.add_node(keras.layers.core.Dense(1,1,activation=activationFunction),inputs=[i[0] for i in connectedNodes],name=node)\n",
    "    #Build output dict\n",
    "    outputDict = {node : 'mse' for node in nodes}\n",
    "    model.compile('rmsprop', outputDict)\n",
    "    return(model)\n",
    "    "
   ]
  },
  {
   "cell_type": "code",
   "execution_count": null,
   "metadata": {
    "collapsed": false
   },
   "outputs": [
    {
     "name": "stdout",
     "output_type": "stream",
     "text": [
      "['L1_68', 'L1_23', 'L1_52', 'L1_77', 'L1_30', 'L1_79', 'L1_45', 'L1_19', 'L1_67', 'L1_44', 'L1_86', 'L1_72', 'L1_69', 'L1_37', 'L1_39', 'L1_49', 'L1_90', 'L1_64', 'L1_9', 'L1_73', 'L1_12', 'L1_76', 'L1_15', 'L1_21', 'L1_14', 'L1_57', 'L1_63', 'L1_41', 'L1_16', 'L1_27', 'L1_98', 'L1_7', 'L1_26', 'L1_82', 'L1_74', 'L1_31', 'L1_40', 'L1_35', 'L1_18', 'L1_95', 'L1_89', 'L1_53', 'L1_96', 'L1_5', 'L1_2', 'L1_60', 'L1_42', 'L1_75', 'L1_32', 'L1_11', 'L1_55', 'L1_83', 'L1_38', 'L1_99', 'L1_66', 'L1_1', 'L1_13', 'L1_61', 'L1_62', 'L1_94', 'L1_81', 'L1_56', 'L1_25', 'L1_46', 'L1_0', 'L1_33', 'L1_93', 'L1_78', 'L1_65', 'L1_8', 'L1_3', 'L1_58', 'L1_20', 'L1_43', 'L1_4', 'L1_6', 'L1_29', 'L1_51', 'L1_80', 'L1_34', 'L1_85', 'L1_92', 'L1_50', 'L1_88', 'L1_71', 'L1_17', 'L1_24', 'L1_97', 'L1_91', 'L1_36', 'L1_47', 'L1_87', 'L1_59', 'L1_10', 'L1_70', 'L1_22', 'L1_28', 'L1_48', 'L1_84', 'L1_54']\n",
      "['L2_36', 'L2_92', 'L2_40', 'L2_19', 'L2_96', 'L2_94', 'L2_4', 'L2_95', 'L2_72', 'L2_2', 'L2_87', 'L2_55', 'L2_62', 'L2_15', 'L2_97', 'L2_60', 'L2_98', 'L2_3', 'L2_65', 'L2_27', 'L2_43', 'L2_29', 'L2_38', 'L2_53', 'L2_59', 'L2_26', 'L2_76', 'L2_54', 'L2_31', 'L2_41', 'L2_0', 'L2_86', 'L2_48', 'L2_89', 'L2_93', 'L2_51', 'L2_58', 'L2_12', 'L2_32', 'L2_84', 'L2_78', 'L2_80', 'L2_77', 'L2_74', 'L2_56', 'L2_63', 'L2_66', 'L2_20', 'L2_64', 'L2_90', 'L2_45', 'L2_7', 'L2_70', 'L2_52', 'L2_39', 'L2_8', 'L2_67', 'L2_25', 'L2_9', 'L2_69', 'L2_1', 'L2_34', 'L2_6', 'L2_82', 'L2_5', 'L2_47', 'L2_81', 'L2_88', 'L2_57', 'L2_61', 'L2_24', 'L2_99', 'L2_35', 'L2_10', 'L2_91', 'L2_49', 'L2_30', 'L2_13', 'L2_28', 'L2_79', 'L2_71', 'L2_18', 'L2_83', 'L2_37', 'L2_17', 'L2_44', 'L2_42', 'L2_11', 'L2_16', 'L2_75', 'L2_22', 'L2_33', 'L2_23', 'L2_46', 'L2_73', 'L2_85', 'L2_50', 'L2_68', 'L2_14', 'L2_21']\n",
      "['output_0', 'output_1']"
     ]
    }
   ],
   "source": [
    "graph_to_keras(originalGraph,layerNames)"
   ]
  },
  {
   "cell_type": "code",
   "execution_count": 42,
   "metadata": {
    "collapsed": true
   },
   "outputs": [],
   "source": [
    "def get_nodes_with_string(graph,string):\n",
    "    myRegex = re.compile(r''+string+'_[0-9]+')\n",
    "    return(myRegex.findall(' '.join(graph.nodes())))\n",
    "def get_connected_nodes(graph,node,inEdges=True,outEdges=False):\n",
    "    edges = []\n",
    "    for edge in graph.edges_iter():\n",
    "        if inEdges:\n",
    "            if edge[1] == node:\n",
    "                edges.append(edge)\n",
    "                continue\n",
    "        if outEdges:\n",
    "            if edge[0] == node:\n",
    "                edges.append(edge)\n",
    "    return(edges)"
   ]
  },
  {
   "cell_type": "code",
   "execution_count": 55,
   "metadata": {
    "collapsed": false
   },
   "outputs": [
    {
     "data": {
      "text/plain": [
       "'output'"
      ]
     },
     "execution_count": 55,
     "metadata": {},
     "output_type": "execute_result"
    }
   ],
   "source": [
    "layerNames[-1]"
   ]
  },
  {
   "cell_type": "code",
   "execution_count": 10,
   "metadata": {
    "collapsed": false
   },
   "outputs": [],
   "source": [
    "layernames = ['input'] + ['L'+str(x) for x in range(layer_sizes-2)] + ['output']"
   ]
  },
  {
   "cell_type": "code",
   "execution_count": 28,
   "metadata": {
    "collapsed": false
   },
   "outputs": [],
   "source": [
    "a = ['%s to %s' % t for t in zip(layerNames[:-1], layerNames[1:])]"
   ]
  }
 ],
 "metadata": {
  "kernelspec": {
   "display_name": "Python 3",
   "language": "python",
   "name": "python3"
  },
  "language_info": {
   "codemirror_mode": {
    "name": "ipython",
    "version": 3
   },
   "file_extension": ".py",
   "mimetype": "text/x-python",
   "name": "python",
   "nbconvert_exporter": "python",
   "pygments_lexer": "ipython3",
   "version": "3.4.1"
  }
 },
 "nbformat": 4,
 "nbformat_minor": 0
}
