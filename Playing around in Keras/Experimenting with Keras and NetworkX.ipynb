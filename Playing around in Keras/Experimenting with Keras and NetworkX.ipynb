{
 "cells": [
  {
   "cell_type": "code",
   "execution_count": 86,
   "metadata": {
    "collapsed": false
   },
   "outputs": [],
   "source": [
    "import networkx as nx\n",
    "from keras.models import Sequential\n",
    "from keras.layers.core import Dense, Activation\n",
    "from keras.optimizers import SGD\n",
    "from keras.utils import np_utils\n",
    "import numpy as np\n",
    "import matplotlib\n",
    "import re\n",
    "\n",
    "%matplotlib inline"
   ]
  },
  {
   "cell_type": "markdown",
   "metadata": {},
   "source": [
    "Generate a very simple classification task:\n",
    "\n",
    "X with 3 features following a uniform dist.\n",
    "Y labels for values greater .7 for each feature"
   ]
  },
  {
   "cell_type": "code",
   "execution_count": 20,
   "metadata": {
    "collapsed": false
   },
   "outputs": [],
   "source": [
    "numTrainSamples = 10000\n",
    "numTestSamples = 3000\n",
    "numFeatures = 3\n",
    "thresh = .7\n",
    "X_train = np.random.rand(numTrainSamples,numFeatures)\n",
    "Y_train = np.all(X_train>thresh,axis=1)\n",
    "\n",
    "X_test = np.random.rand(numTestSamples,numFeatures)\n",
    "Y_test = np.all(X_test>thresh,axis=1)\n",
    "\n",
    "Y_train = np_utils.to_categorical(Y_train)\n",
    "Y_test = np_utils.to_categorical(Y_test)"
   ]
  },
  {
   "cell_type": "markdown",
   "metadata": {},
   "source": [
    "Set up the Network"
   ]
  },
  {
   "cell_type": "code",
   "execution_count": 238,
   "metadata": {
    "collapsed": false
   },
   "outputs": [],
   "source": [
    "input_num = X_train.shape[1]\n",
    "output_num = Y_train.shape[1]\n",
    "layers = [input_num,5,output_num]\n",
    "layerNames = ['input','L1','output']\n",
    "\n",
    "model = keras.models.Sequential()\n",
    "for ix,i in enumerate(layers):\n",
    "    if(ix <len(layers)-1):\n",
    "        model.add(keras.layers.core.Dense(i,layers[ix+1]))\n",
    "        model.add(keras.layers.core.Activation('sigmoid'))\n",
    "\n",
    "model.compile(loss='mse',optimizer='rmsprop')"
   ]
  },
  {
   "cell_type": "markdown",
   "metadata": {},
   "source": [
    "Display the model as a Network"
   ]
  },
  {
   "cell_type": "code",
   "execution_count": 239,
   "metadata": {
    "collapsed": false
   },
   "outputs": [],
   "source": [
    "originalGraph = kerasToGraph(model,layerNames,.5)"
   ]
  },
  {
   "cell_type": "code",
   "execution_count": 240,
   "metadata": {
    "collapsed": false
   },
   "outputs": [
    {
     "data": {
      "image/png": "[encoded data removed]",
      "text/plain": [
       "<matplotlib.figure.Figure at 0x8585f28>"
      ]
     },
     "metadata": {},
     "output_type": "display_data"
    }
   ],
   "source": [
    "plotForwardNeuralNet(originalGraph,layerNames)"
   ]
  },
  {
   "cell_type": "markdown",
   "metadata": {},
   "source": [
    "Train the model"
   ]
  },
  {
   "cell_type": "code",
   "execution_count": 241,
   "metadata": {
    "collapsed": false
   },
   "outputs": [
    {
     "name": "stdout",
     "output_type": "stream",
     "text": [
      "Train on 9000 samples, validate on 1000 samples\n",
      "Epoch 0\n",
      "0s - loss: 0.1811 - acc: 0.9169 - val_loss: 0.1220 - val_acc: 0.9720\n",
      "Epoch 1\n",
      "0s - loss: 0.0848 - acc: 0.9750 - val_loss: 0.0585 - val_acc: 0.9720\n",
      "Epoch 2\n",
      "0s - loss: 0.0431 - acc: 0.9750 - val_loss: 0.0357 - val_acc: 0.9720\n",
      "Epoch 3\n",
      "0s - loss: 0.0293 - acc: 0.9750 - val_loss: 0.0293 - val_acc: 0.9720\n",
      "Epoch 4\n",
      "0s - loss: 0.0257 - acc: 0.9750 - val_loss: 0.0279 - val_acc: 0.9720\n",
      "Epoch 5\n",
      "0s - loss: 0.0249 - acc: 0.9750 - val_loss: 0.0276 - val_acc: 0.9720\n",
      "Epoch 6\n",
      "0s - loss: 0.0247 - acc: 0.9750 - val_loss: 0.0275 - val_acc: 0.9720\n",
      "Epoch 7\n",
      "0s - loss: 0.0247 - acc: 0.9750 - val_loss: 0.0275 - val_acc: 0.9720\n",
      "Epoch 8\n",
      "0s - loss: 0.0246 - acc: 0.9750 - val_loss: 0.0275 - val_acc: 0.9720\n",
      "Epoch 9\n",
      "0s - loss: 0.0246 - acc: 0.9750 - val_loss: 0.0275 - val_acc: 0.9720\n"
     ]
    },
    {
     "data": {
      "text/plain": [
       "<keras.callbacks.History at 0xbc9ae10>"
      ]
     },
     "execution_count": 241,
     "metadata": {},
     "output_type": "execute_result"
    }
   ],
   "source": [
    "model.fit(X_train, Y_train, nb_epoch=10, batch_size=64, validation_split=0.1, show_accuracy=True, verbose=2)"
   ]
  },
  {
   "cell_type": "code",
   "execution_count": 243,
   "metadata": {
    "collapsed": false
   },
   "outputs": [
    {
     "data": {
      "image/png": "[encoded data removed]",
      "text/plain": [
       "<matplotlib.figure.Figure at 0xbc8c940>"
      ]
     },
     "metadata": {},
     "output_type": "display_data"
    }
   ],
   "source": [
    "trainedGraph = kerasToGraph(model,layerNames,.5)\n",
    "plotForwardNeuralNet(trainedGraph,layerNames)"
   ]
  },
  {
   "cell_type": "code",
   "execution_count": 220,
   "metadata": {
    "collapsed": true
   },
   "outputs": [],
   "source": [
    "def graphAddLayer(graph, fromLayer,toLayer,connectionMatrix,threshhold=0):\n",
    "    '''\n",
    "    This method grows a graph according to non-zero connection matrix for to layers in a neural net\n",
    "    This method takes as inputs:\n",
    "    -a NetworkX object, graph\n",
    "    -the name of the fromLayer and toLayer\n",
    "    -a connection matrix of dimension fromLayer x toLayer\n",
    "    and returns:\n",
    "    -the grown graph\n",
    "    '''\n",
    "    fromNodeNames = list(map(lambda x: str(fromLayer) + \"_\" + str(x),range(connectionMatrix.shape[0]))) #generate the names for the fromLayer\n",
    "    toNodeNames = list(map(lambda x: str(toLayer) + \"_\" + str(x),range(connectionMatrix.shape[1]))) #generate the names for the toLayer\n",
    "    \n",
    "    #add the nodes to the graph\n",
    "    graph.add_nodes_from(fromNodeNames + toNodeNames)\n",
    "    \n",
    "    booleanMatrix = np.abs(connectionMatrix) > threshhold \n",
    "    \n",
    "    #generate the edges\n",
    "    edges = []\n",
    "    for fromIX,fromNode in enumerate(fromNodeNames):\n",
    "        for toIX,toNode in enumerate(toNodeNames):\n",
    "            if(booleanMatrix[fromIX][toIX]):\n",
    "                edges.append((fromNode,toNode))\n",
    "    graph.add_edges_from(edges)\n",
    "    \n",
    "    return graph"
   ]
  },
  {
   "cell_type": "code",
   "execution_count": 226,
   "metadata": {
    "collapsed": true
   },
   "outputs": [],
   "source": [
    "def plotForwardNeuralNet(graph,layerNames):\n",
    "    '''\n",
    "    This function returns a matplotlib object of a bipartite neural net\n",
    "    It takes as input:\n",
    "    -a NetworkX Graph\n",
    "    -a list of layer names (could be deprecated with a regex but w/e)\n",
    "    '''\n",
    "    \n",
    "    listOfLayers = separateLayers(graph.nodes(),layerNames)\n",
    "    positions = dict()\n",
    "    for ix,layer in enumerate(listOfLayers):\n",
    "        positions.update((n, (ix, i)) for i, n in enumerate(layer))\n",
    "    nx.draw(graph, pos=positions)"
   ]
  },
  {
   "cell_type": "code",
   "execution_count": 219,
   "metadata": {
    "collapsed": false
   },
   "outputs": [],
   "source": [
    "def kerasToGraph(model,layerNames,threshhold=0): #can change to list of threshholds or some methods or something\n",
    "    '''\n",
    "    This function converts a keras neural network to a NetworkX graph\n",
    "    Inputs:\n",
    "    -model, the keras model\n",
    "    -layerNames, the list of layer names\n",
    "    -threshhold(optional) - the absolute value above which the edge should be drawn\n",
    "    '''\n",
    "    graph = nx.Graph()\n",
    "    for ix,layerName in enumerate(layerNames):\n",
    "        if ix >0:\n",
    "            graph = graphAddLayer(graph,layerNames[ix-1],layerNames[ix],model.get_weights()[(ix-1)*2],threshhold)\n",
    "    return(graph)\n",
    "    "
   ]
  },
  {
   "cell_type": "code",
   "execution_count": 207,
   "metadata": {
    "collapsed": true
   },
   "outputs": [],
   "source": [
    "def separateLayers(listOfNodes,layerNames):\n",
    "    \"\"\"\n",
    "    This function identifies the layers of a neural network based on the names of the layers\n",
    "    Inputs:\n",
    "    -a list of strings corresponding to nodes in a graph\n",
    "    -a list of layer names\n",
    "    Returns:\n",
    "    -a list of lists with the names of nodes of each layer in a separate list\n",
    "    \"\"\"\n",
    "    layers =[]\n",
    "    for layer in layerNames:\n",
    "        temp = []\n",
    "        for node in listOfNodes:\n",
    "            if re.search(layer+'_',node):\n",
    "                temp.append(node)\n",
    "        layers.append(temp)\n",
    "    return layers"
   ]
  }
 ],
 "metadata": {
  "kernelspec": {
   "display_name": "Python 3",
   "language": "python",
   "name": "python3"
  },
  "language_info": {
   "codemirror_mode": {
    "name": "ipython",
    "version": 3
   },
   "file_extension": ".py",
   "mimetype": "text/x-python",
   "name": "python",
   "nbconvert_exporter": "python",
   "pygments_lexer": "ipython3",
   "version": "3.4.1"
  }
 },
 "nbformat": 4,
 "nbformat_minor": 0
}
