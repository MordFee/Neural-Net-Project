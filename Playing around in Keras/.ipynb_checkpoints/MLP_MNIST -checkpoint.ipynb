{
 "metadata": {
  "name": "",
  "signature": "sha256:22d1f1d63b0458e62aee479a3818ad5ec5a0c82fa285763174a2b3d51aa1344d"
 },
 "nbformat": 3,
 "nbformat_minor": 0,
 "worksheets": [
  {
   "cells": [
    {
     "cell_type": "code",
     "collapsed": false,
     "input": [
      "import numpy as np\n",
      "from mnist_reader import *"
     ],
     "language": "python",
     "metadata": {},
     "outputs": [],
     "prompt_number": 1
    },
    {
     "cell_type": "markdown",
     "metadata": {},
     "source": [
      "First import the MNIST dataset from training and testing splits"
     ]
    },
    {
     "cell_type": "code",
     "collapsed": false,
     "input": [
      "X_train, y_train = load_mnist(dataset='training')\n",
      "X_test, y_test = load_mnist(dataset='testing')"
     ],
     "language": "python",
     "metadata": {},
     "outputs": [],
     "prompt_number": 6
    },
    {
     "cell_type": "markdown",
     "metadata": {},
     "source": [
      "Flatten the dataset"
     ]
    },
    {
     "cell_type": "code",
     "collapsed": false,
     "input": [
      "X_train = X_train.reshape([len(X_train),28*28])\n",
      "X_test = X_test.reshape([len(X_test),28*28])"
     ],
     "language": "python",
     "metadata": {},
     "outputs": [],
     "prompt_number": 8
    },
    {
     "cell_type": "markdown",
     "metadata": {},
     "source": [
      "Convert the testing dataset to binary output"
     ]
    },
    {
     "cell_type": "code",
     "collapsed": false,
     "input": [
      "from keras.utils import np_utils"
     ],
     "language": "python",
     "metadata": {},
     "outputs": [],
     "prompt_number": 16
    },
    {
     "cell_type": "code",
     "collapsed": false,
     "input": [
      "y_train = np_utils.to_categorical(y_train)"
     ],
     "language": "python",
     "metadata": {},
     "outputs": [],
     "prompt_number": 17
    },
    {
     "cell_type": "markdown",
     "metadata": {},
     "source": [
      "Creat a 3 layer MLP with the following:\n",
      "\n",
      "    Input -- 784 8-bit uint vector\n",
      "    \n",
      "    Input-L1 : fully connected\n",
      "    \n",
      "    L1 -- 128 node layer with sigmoid activation\n",
      "    \n",
      "    L1 - L2 : fully connected\n",
      "    \n",
      "    L2 : 64 node layer with simgoid activation\n",
      "    \n",
      "    L2 - Output : fully connected\n",
      "    \n",
      "    Output : 10 node layer output\n"
     ]
    },
    {
     "cell_type": "code",
     "collapsed": false,
     "input": [
      "input_num = X_train.shape[1]\n",
      "layer1_num = 128\n",
      "layer2_num = 64\n",
      "output_num = y_train.shape[1]"
     ],
     "language": "python",
     "metadata": {},
     "outputs": [],
     "prompt_number": 21
    },
    {
     "cell_type": "markdown",
     "metadata": {},
     "source": [
      "Set up the layers"
     ]
    },
    {
     "cell_type": "code",
     "collapsed": false,
     "input": [
      "from keras.models import Sequential\n",
      "from keras.layers.core import Dense, Dropout, Activation\n",
      "from keras.optimizers import SGD\n",
      "\n",
      "model = Sequential()\n",
      "model.add(Dense(input_num,layer1_num))\n",
      "model.add(Activation('sigmoid'))\n",
      "model.add(Dense(layer1_num,layer2_num))\n",
      "model.add(Activation('sigmoid'))\n",
      "model.add(Dense(layer2_num,output_num))\n",
      "model.add(Activation('sigmoid'))\n",
      "\n",
      "model.compile(loss='mse',optimizer='rmsprop')"
     ],
     "language": "python",
     "metadata": {},
     "outputs": []
    },
    {
     "cell_type": "markdown",
     "metadata": {},
     "source": [
      "Training Step"
     ]
    },
    {
     "cell_type": "code",
     "collapsed": false,
     "input": [
      "model.fit(X_train, y_train, nb_epoch=10, batch_size=16, validation_split=0.1, show_accuracy=True, verbose=2)"
     ],
     "language": "python",
     "metadata": {},
     "outputs": []
    }
   ],
   "metadata": {}
  }
 ]
}