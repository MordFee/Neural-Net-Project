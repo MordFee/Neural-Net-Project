{
 "metadata": {
  "name": "",
  "signature": "sha256:1315f3b6921cff0f3e51d93d02623194506ab50922954c8eb49006a42d1c9b43"
 },
 "nbformat": 3,
 "nbformat_minor": 0,
 "worksheets": [
  {
   "cells": [
    {
     "cell_type": "code",
     "collapsed": false,
     "input": [
      "import numpy as np\n",
      "from mnist_reader import *\n",
      "from matplotlib import pyplot\n",
      "%matplotlib inline"
     ],
     "language": "python",
     "metadata": {},
     "outputs": [],
     "prompt_number": 60
    },
    {
     "cell_type": "markdown",
     "metadata": {},
     "source": [
      "First import the MNIST dataset from training and testing splits"
     ]
    },
    {
     "cell_type": "code",
     "collapsed": false,
     "input": [
      "X_train, y_train = load_mnist(dataset='training')\n",
      "X_test, y_test = load_mnist(dataset='testing')"
     ],
     "language": "python",
     "metadata": {},
     "outputs": [],
     "prompt_number": 62
    },
    {
     "cell_type": "code",
     "collapsed": false,
     "input": [
      "pyplot.imshow(X_train[4],cmap='Greys')"
     ],
     "language": "python",
     "metadata": {},
     "outputs": [
      {
       "metadata": {},
       "output_type": "pyout",
       "prompt_number": 69,
       "text": [
        "<matplotlib.image.AxesImage at 0x123b2748>"
       ]
      },
      {
       "metadata": {},
       "output_type": "display_data",
       "png": "[encoded data removed]",
       "text": [
        "<matplotlib.figure.Figure at 0x12f85cc0>"
       ]
      }
     ],
     "prompt_number": 69
    },
    {
     "cell_type": "markdown",
     "metadata": {},
     "source": [
      "Flatten the dataset"
     ]
    },
    {
     "cell_type": "code",
     "collapsed": false,
     "input": [
      "X_train = X_train.reshape([len(X_train),28*28])\n",
      "X_test = X_test.reshape([len(X_test),28*28])"
     ],
     "language": "python",
     "metadata": {},
     "outputs": [],
     "prompt_number": 8
    },
    {
     "cell_type": "markdown",
     "metadata": {},
     "source": [
      "Convert the testing dataset to binary output"
     ]
    },
    {
     "cell_type": "code",
     "collapsed": false,
     "input": [
      "from keras.utils import np_utils"
     ],
     "language": "python",
     "metadata": {},
     "outputs": [],
     "prompt_number": 16
    },
    {
     "cell_type": "code",
     "collapsed": false,
     "input": [
      "y_train = np_utils.to_categorical(y_train)"
     ],
     "language": "python",
     "metadata": {},
     "outputs": [],
     "prompt_number": 17
    },
    {
     "cell_type": "markdown",
     "metadata": {},
     "source": [
      "Creat a 3 layer MLP with the following:\n",
      "\n",
      "    Input -- 784 8-bit uint vector\n",
      "    \n",
      "    Input-L1 : fully connected\n",
      "    \n",
      "    L1 -- 128 node layer with sigmoid activation\n",
      "    \n",
      "    L1 - L2 : fully connected\n",
      "    \n",
      "    L2 : 128 node layer with simgoid activation\n",
      "    \n",
      "    L2 - Output : fully connected\n",
      "    \n",
      "    Output : 10 node layer output\n"
     ]
    },
    {
     "cell_type": "code",
     "collapsed": false,
     "input": [
      "input_num = X_train.shape[1]\n",
      "output_num = y_train.shape[1]\n",
      "layers = [input_num,64,64,64,64,output_num]"
     ],
     "language": "python",
     "metadata": {},
     "outputs": [],
     "prompt_number": 59
    },
    {
     "cell_type": "markdown",
     "metadata": {},
     "source": [
      "Set up the layers"
     ]
    },
    {
     "cell_type": "code",
     "collapsed": false,
     "input": [
      "from keras.models import Sequential\n",
      "from keras.layers.core import Dense, Dropout, Activation\n",
      "from keras.optimizers import SGD\n",
      "model = Sequential()\n",
      "for ix,i in enumerate(layers):\n",
      "    if(ix <len(layers)-1):\n",
      "        model.add(Dense(i,layers[ix]))\n",
      "        model.add(Activation('sigmoid'))\n",
      "\n",
      "model.compile(loss='mse',optimizer='rmsprop')"
     ],
     "language": "python",
     "metadata": {},
     "outputs": [],
     "prompt_number": 55
    },
    {
     "cell_type": "markdown",
     "metadata": {},
     "source": [
      "Training Step"
     ]
    },
    {
     "cell_type": "code",
     "collapsed": false,
     "input": [
      "model.fit(X_train, y_train, nb_epoch=10, batch_size=16, validation_split=0.1, show_accuracy=True, verbose=2)"
     ],
     "language": "python",
     "metadata": {},
     "outputs": [
      {
       "output_type": "stream",
       "stream": "stdout",
       "text": [
        "Train on 54000 samples, validate on 6000 samples\n",
        "Epoch 0\n",
        "35s - loss: 0.0699 - acc: 0.5067 - val_loss: 0.0344 - val_acc: 0.8522\n"
       ]
      },
      {
       "output_type": "stream",
       "stream": "stdout",
       "text": [
        "Epoch 1\n",
        "35s - loss: 0.0250 - acc: 0.8701 - val_loss: 0.0152 - val_acc: 0.9153\n"
       ]
      },
      {
       "output_type": "stream",
       "stream": "stdout",
       "text": [
        "Epoch 2\n",
        "38s - loss: 0.0161 - acc: 0.9038 - val_loss: 0.0120 - val_acc: 0.9285\n"
       ]
      },
      {
       "output_type": "stream",
       "stream": "stdout",
       "text": [
        "Epoch 3\n",
        "41s - loss: 0.0136 - acc: 0.9154 - val_loss: 0.0104 - val_acc: 0.9345\n"
       ]
      },
      {
       "output_type": "stream",
       "stream": "stdout",
       "text": [
        "Epoch 4\n",
        "47s - loss: 0.0123 - acc: 0.9229 - val_loss: 0.0098 - val_acc: 0.9402\n"
       ]
      },
      {
       "output_type": "stream",
       "stream": "stdout",
       "text": [
        "Epoch 5\n",
        "49s - loss: 0.0114 - acc: 0.9274 - val_loss: 0.0088 - val_acc: 0.9430\n"
       ]
      },
      {
       "output_type": "stream",
       "stream": "stdout",
       "text": [
        "Epoch 6\n",
        "51s - loss: 0.0106 - acc: 0.9328 - val_loss: 0.0084 - val_acc: 0.9492\n"
       ]
      },
      {
       "output_type": "stream",
       "stream": "stdout",
       "text": [
        "Epoch 7\n",
        "61s - loss: 0.0101 - acc: 0.9351 - val_loss: 0.0081 - val_acc: 0.9513\n"
       ]
      },
      {
       "output_type": "stream",
       "stream": "stdout",
       "text": [
        "Epoch 8\n",
        "49s - loss: 0.0096 - acc: 0.9383 - val_loss: 0.0079 - val_acc: 0.9527\n"
       ]
      },
      {
       "output_type": "stream",
       "stream": "stdout",
       "text": [
        "Epoch 9\n",
        "52s - loss: 0.0091 - acc: 0.9414 - val_loss: 0.0075 - val_acc: 0.9523\n"
       ]
      },
      {
       "metadata": {},
       "output_type": "pyout",
       "prompt_number": 56,
       "text": [
        "<keras.callbacks.History at 0xe7ac358>"
       ]
      }
     ],
     "prompt_number": 56
    },
    {
     "cell_type": "code",
     "collapsed": false,
     "input": [
      "preds = model.predict_classes(X_test, verbose=0)"
     ],
     "language": "python",
     "metadata": {},
     "outputs": [],
     "prompt_number": 57
    },
    {
     "cell_type": "code",
     "collapsed": false,
     "input": [
      "y_test = np.squeeze(y_test)\n",
      "sum(y_test==preds)/len(y_test)"
     ],
     "language": "python",
     "metadata": {},
     "outputs": [
      {
       "metadata": {},
       "output_type": "pyout",
       "prompt_number": 58,
       "text": [
        "0.93969999999999998"
       ]
      }
     ],
     "prompt_number": 58
    }
   ],
   "metadata": {}
  }
 ]
}