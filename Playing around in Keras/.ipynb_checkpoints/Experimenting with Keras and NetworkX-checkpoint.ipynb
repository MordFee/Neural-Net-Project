{
 "cells": [
  {
   "cell_type": "code",
   "execution_count": 157,
   "metadata": {
    "collapsed": false
   },
   "outputs": [],
   "source": [
    "import networkx as nx\n",
    "from keras.models import Sequential\n",
    "from keras.layers.core import Dense, Activation\n",
    "from keras.optimizers import SGD\n",
    "from keras.utils import np_utils\n",
    "import numpy as np\n",
    "import matplotlib\n",
    "import re\n",
    "from sklearn import metrics\n",
    "\n",
    "%matplotlib inline"
   ]
  },
  {
   "cell_type": "markdown",
   "metadata": {},
   "source": [
    "Generate a very simple classification task:\n",
    "\n",
    "X with 3 features following a uniform dist.\n",
    "Y labels for values greater .7 for each feature"
   ]
  },
  {
   "cell_type": "code",
   "execution_count": 75,
   "metadata": {
    "collapsed": false
   },
   "outputs": [],
   "source": [
    "numTrainSamples = 10000\n",
    "numTestSamples = 3000\n",
    "numFeatures = 3\n",
    "thresh = .5\n",
    "X_train = np.random.rand(numTrainSamples,numFeatures)\n",
    "Y_train = np.all(X_train>thresh,axis=1)\n",
    "\n",
    "X_test = np.random.rand(numTestSamples,numFeatures)\n",
    "Y_test = np.all(X_test>thresh,axis=1)\n",
    "\n",
    "Y_train = np_utils.to_categorical(Y_train)"
   ]
  },
  {
   "cell_type": "markdown",
   "metadata": {},
   "source": [
    "Set up the Network"
   ]
  },
  {
   "cell_type": "code",
   "execution_count": 199,
   "metadata": {
    "collapsed": false
   },
   "outputs": [],
   "source": [
    "input_num = X_train.shape[1]\n",
    "output_num = Y_train.shape[1]\n",
    "layers = [input_num,3,output_num]\n",
    "layerNames = ['input','L1','output']\n",
    "\n",
    "model = Sequential()\n",
    "for ix,i in enumerate(layers):\n",
    "    if(ix <len(layers)-1):\n",
    "        model.add(Dense(i,layers[ix+1],weights=[np.random.randint(2,size=(i,layers[ix+1]))]))\n",
    "        model.add(Activation('sigmoid'))\n",
    "\n",
    "model.compile(loss='mse',optimizer='rmsprop')"
   ]
  },
  {
   "cell_type": "markdown",
   "metadata": {},
   "source": [
    "Display the model as a Network"
   ]
  },
  {
   "cell_type": "code",
   "execution_count": 200,
   "metadata": {
    "collapsed": false
   },
   "outputs": [],
   "source": [
    "originalGraph = kerasToGraph(model,layerNames)"
   ]
  },
  {
   "cell_type": "code",
   "execution_count": 201,
   "metadata": {
    "collapsed": false
   },
   "outputs": [
    {
     "data": {
      "image/png": "[encoded data removed]",
      "text/plain": [
       "<matplotlib.figure.Figure at 0xd7429b0>"
      ]
     },
     "metadata": {},
     "output_type": "display_data"
    }
   ],
   "source": [
    "plotForwardNeuralNet(originalGraph,layerNames,weighted=True)"
   ]
  },
  {
   "cell_type": "markdown",
   "metadata": {},
   "source": [
    "##Questions:\n",
    "Annealing v. Fixing? How to isolate impact? and follow up: <br /> \n",
    "\\How to get uniform on all parameters but one to isolate impact in graph initialization? <br /> \n"
   ]
  },
  {
   "cell_type": "markdown",
   "metadata": {},
   "source": [
    "Train the model"
   ]
  },
  {
   "cell_type": "code",
   "execution_count": 204,
   "metadata": {
    "collapsed": false
   },
   "outputs": [
    {
     "data": {
      "text/plain": [
       "<keras.callbacks.History at 0xeae3f60>"
      ]
     },
     "execution_count": 204,
     "metadata": {},
     "output_type": "execute_result"
    }
   ],
   "source": [
    "model.fit(X_train, Y_train, nb_epoch=1000, batch_size=9000, validation_split=0.1, show_accuracy=True,verbose=0)"
   ]
  },
  {
   "cell_type": "code",
   "execution_count": 205,
   "metadata": {
    "collapsed": false
   },
   "outputs": [
    {
     "name": "stdout",
     "output_type": "stream",
     "text": [
      "3000/3000 [==============================] - 0s     \n"
     ]
    },
    {
     "data": {
      "text/plain": [
       "array([[2638,    0],\n",
       "       [ 362,    0]])"
      ]
     },
     "execution_count": 205,
     "metadata": {},
     "output_type": "execute_result"
    }
   ],
   "source": [
    "preds = model.predict_classes(X_test)\n",
    "metrics.confusion_matrix(Y_test,preds)"
   ]
  },
  {
   "cell_type": "code",
   "execution_count": 206,
   "metadata": {
    "collapsed": false
   },
   "outputs": [
    {
     "data": {
      "image/png": "[encoded data removed]",
      "text/plain": [
       "<matplotlib.figure.Figure at 0xeae3550>"
      ]
     },
     "metadata": {},
     "output_type": "display_data"
    }
   ],
   "source": [
    "trainedGraph = kerasToGraph(model,layerNames)\n",
    "plotForwardNeuralNet(trainedGraph,layerNames,weighted=True)"
   ]
  },
  {
   "cell_type": "markdown",
   "metadata": {
    "collapsed": true
   },
   "source": [
    "## Util Functions"
   ]
  },
  {
   "cell_type": "code",
   "execution_count": 4,
   "metadata": {
    "collapsed": false
   },
   "outputs": [],
   "source": [
    "def graphAddLayer(graph, fromLayer,toLayer,connectionMatrix,threshhold=0,sep='_'):\n",
    "    '''\n",
    "    This method grows a graph according to non-zero connection matrix for to layers in a neural net\n",
    "    This method takes as inputs:\n",
    "    -a NetworkX object, graph\n",
    "    -the name of the fromLayer and toLayer\n",
    "    -a connection matrix of dimension fromLayer x toLayer\n",
    "    and returns:\n",
    "    -the grown graph\n",
    "    '''\n",
    "    fromNodeNames = list(map(lambda x: str(fromLayer) + sep + str(x),range(connectionMatrix.shape[0]))) #generate the names for the fromLayer\n",
    "    toNodeNames = list(map(lambda x: str(toLayer) + sep + str(x),range(connectionMatrix.shape[1]))) #generate the names for the toLayer\n",
    "    \n",
    "    #add the nodes to the graph\n",
    "    graph.add_nodes_from(fromNodeNames + toNodeNames)\n",
    "    \n",
    "    booleanMatrix = np.abs(connectionMatrix) > threshhold \n",
    "    \n",
    "    #generate the edges\n",
    "    edges = []\n",
    "    for fromIX,fromNode in enumerate(fromNodeNames):\n",
    "        for toIX,toNode in enumerate(toNodeNames):\n",
    "            if(booleanMatrix[fromIX][toIX]):\n",
    "                edges.append((fromNode,toNode, connectionMatrix[fromIX][toIX]))\n",
    "    graph.add_weighted_edges_from(edges)\n",
    "    \n",
    "    return graph"
   ]
  },
  {
   "cell_type": "code",
   "execution_count": 34,
   "metadata": {
    "collapsed": true
   },
   "outputs": [],
   "source": [
    "def plotForwardNeuralNet(graph,layerNames,weighted=False, scaling= lambda x:x):\n",
    "    '''\n",
    "    This function returns a matplotlib object of a bipartite neural net\n",
    "    It takes as input:\n",
    "    -a NetworkX Graph\n",
    "    -a list of layer names (could be deprecated with a regex but w/e)\n",
    "    '''\n",
    "    \n",
    "    ##TODO: Make it return the Matplotlib object or figure isntead of automatically drawing\n",
    "    \n",
    "    listOfLayers = separateLayers(graph.nodes(),layerNames)\n",
    "    positions = dict()\n",
    "    for ix,layer in enumerate(listOfLayers):\n",
    "        positions.update((n, (ix, i)) for i, n in enumerate(layer))\n",
    "    if weighted:\n",
    "        nx.draw_networkx_nodes(graph,pos=positions) #draw the nodes\n",
    "        #Loop through each edge \n",
    "        for (fromNode,toNode,weight) in graph.edges(data=True):\n",
    "            nx.draw_networkx_edges(graph,positions,edgelist=[(fromNode,toNode)],width=scaling(weight['weight']))\n",
    "    else:\n",
    "        nx.draw(graph, pos=positions)"
   ]
  },
  {
   "cell_type": "code",
   "execution_count": 164,
   "metadata": {
    "collapsed": false
   },
   "outputs": [],
   "source": [
    "def kerasToGraph(model,layerNames,threshhold=0): #can change to list of threshholds or some methods or something\n",
    "    '''\n",
    "    This function converts a keras neural network to a NetworkX graph\n",
    "    Inputs:\n",
    "    -model, the keras model\n",
    "    -layerNames, the list of layer names\n",
    "    -threshhold(optional) - the absolute value above which the edge should be drawn\n",
    "    '''\n",
    "    graph = nx.DiGraph() #Use directed graph for now\n",
    "    for ix,layerName in enumerate(layerNames):\n",
    "        if ix >0:\n",
    "            graph = graphAddLayer(graph,layerNames[ix-1],layerNames[ix],model.get_weights()[(ix-1)*2],threshhold)\n",
    "    return(graph)\n",
    "    "
   ]
  },
  {
   "cell_type": "code",
   "execution_count": 7,
   "metadata": {
    "collapsed": true
   },
   "outputs": [],
   "source": [
    "def separateLayers(listOfNodes,layerNames,sep='_'):\n",
    "    \"\"\"\n",
    "    This function identifies the layers of a neural network based on the names of the layers\n",
    "    Inputs:\n",
    "    -a list of strings corresponding to nodes in a graph\n",
    "    -a list of layer names\n",
    "    Returns:\n",
    "    -a list of lists with the names of nodes of each layer in a separate list\n",
    "    \"\"\"\n",
    "    layers =[]\n",
    "    for layer in layerNames:\n",
    "        temp = []\n",
    "        for node in listOfNodes:\n",
    "            if re.search(layer+sep,node):\n",
    "                temp.append(node)\n",
    "        layers.append(temp)\n",
    "    return layers"
   ]
  },
  {
   "cell_type": "code",
   "execution_count": null,
   "metadata": {
    "collapsed": true
   },
   "outputs": [],
   "source": [
    "def graphToKeras"
   ]
  }
 ],
 "metadata": {
  "kernelspec": {
   "display_name": "Python 3",
   "language": "python",
   "name": "python3"
  },
  "language_info": {
   "codemirror_mode": {
    "name": "ipython",
    "version": 3
   },
   "file_extension": ".py",
   "mimetype": "text/x-python",
   "name": "python",
   "nbconvert_exporter": "python",
   "pygments_lexer": "ipython3",
   "version": "3.4.1"
  }
 },
 "nbformat": 4,
 "nbformat_minor": 0
}
