{
 "metadata": {
  "name": "",
  "signature": "sha256:b84e8df254fdc688b4a3368b3fdca712b02f369f60d00e30078b3d26d1cf3cbd"
 },
 "nbformat": 3,
 "nbformat_minor": 0,
 "worksheets": [
  {
   "cells": [
    {
     "cell_type": "code",
     "collapsed": false,
     "input": [
      "import mnist_reader\n",
      "from pylab import *"
     ],
     "language": "python",
     "metadata": {},
     "outputs": [],
     "prompt_number": 6
    },
    {
     "cell_type": "code",
     "collapsed": false,
     "input": [
      "X_train,Y_train = mnist_reader.load_mnist()\n",
      "X_test, Y_test = mnist_reader.load_mnist(dataset='testing')"
     ],
     "language": "python",
     "metadata": {},
     "outputs": [],
     "prompt_number": 11
    },
    {
     "cell_type": "code",
     "collapsed": false,
     "input": [
      "from keras.models import Sequential\n",
      "from keras.layers.core import Dense, Dropout, Activation\n",
      "from keras.optimizers import SGD"
     ],
     "language": "python",
     "metadata": {},
     "outputs": [],
     "prompt_number": 1
    },
    {
     "cell_type": "code",
     "collapsed": false,
     "input": [
      "model = Sequential()\n",
      "model.add(Dense(20, 64, init='uniform'))\n",
      "model.add(Activation('tanh'))\n",
      "model.add(Dropout(0.5))\n",
      "model.add(Dense(64, 64, init='uniform'))\n",
      "model.add(Activation('tanh'))\n",
      "model.add(Dropout(0.5))\n",
      "model.add(Dense(64, 2, init='uniform'))\n",
      "model.add(Activation('softmax'))"
     ],
     "language": "python",
     "metadata": {},
     "outputs": [],
     "prompt_number": 2
    },
    {
     "cell_type": "code",
     "collapsed": false,
     "input": [
      "sgd = SGD(lr=0.1, decay=1e-6, momentum=0.9, nesterov=True)\n",
      "model.compile(loss='mean_squared_error', optimizer=sgd)"
     ],
     "language": "python",
     "metadata": {},
     "outputs": [],
     "prompt_number": 3
    },
    {
     "cell_type": "code",
     "collapsed": false,
     "input": [
      "model.fit(X_train, y_train, nb_epoch=20, batch_size=16)\n",
      "score = model.evaluate(X_test, y_test, batch_size=16)"
     ],
     "language": "python",
     "metadata": {},
     "outputs": []
    }
   ],
   "metadata": {}
  }
 ]
}