{
 "cells": [
  {
   "cell_type": "code",
   "execution_count": 3,
   "metadata": {
    "collapsed": true
   },
   "outputs": [],
   "source": [
    "import keras\n",
    "import os\n",
    "import numpy as np\n",
    "import random\n",
    "from tqdm import tqdm"
   ]
  },
  {
   "cell_type": "code",
   "execution_count": 4,
   "metadata": {
    "collapsed": true
   },
   "outputs": [],
   "source": [
    "def calculate_spectral_gap(E,S,T):\n",
    "    '''\n",
    "    Calculates the approx spectral gap of a bipartite Connectivity Matrix labelled E\n",
    "    - E is of dimension M x N \n",
    "    - S is a numpy array of left M with 1 indicating that left vertex is part of E\n",
    "    - T is a numpy array of left N with 1 indicating that right vertex is part of E\n",
    "    '''\n",
    "    s = np.sum(S) #number of vertices on the left in the bipartite graph\n",
    "    t = np.sum(T) #number of vertices on the right in the bipartite graph\n",
    "    m, n = E.shape\n",
    "    d =  np.mean((E != 0).sum(1)) # Average degree of left bipartite layer\n",
    "    subset_E = E[S,T] #take the random subset\n",
    "    \n",
    "    q = np.linalg.det(subset_E - d*s*t/n) #calculate the determinent \n",
    "    lamb = q/(d*(s*t)**.5) #calculate the spectral gap\n",
    "    \n",
    "    return(lamb)"
   ]
  },
  {
   "cell_type": "code",
   "execution_count": 5,
   "metadata": {
    "collapsed": true
   },
   "outputs": [],
   "source": [
    "def calculate_random_spectral_gaps(E,p,num_trials):\n",
    "    '''\n",
    "    Calculates many spectral gaps using calculate_spectral_gap and returns the maximum and the list of q's\n",
    "    - E is the the connectivity matrix of dimension M x N\n",
    "    - p is the probability of retaining a vertex in the left or right bipartite graph\n",
    "    - num_trials is the number of simulations to run\n",
    "    '''\n",
    "    m,n = E.shape\n",
    "    q_list = list()\n",
    "    for i in range(num_trials):\n",
    "        S = numpy.rand.random(m) < p\n",
    "        T = numpy.rand.random(n) < p\n",
    "        q = calculate_spectral_gap(E,S,T)\n",
    "        q_list.append(q)\n",
    "    return(max(q),q_list)"
   ]
  },
  {
   "cell_type": "code",
   "execution_count": 7,
   "metadata": {
    "collapsed": false
   },
   "outputs": [],
   "source": [
    "def calculate_spectral_gaps_for_all_layers(list_of_E,p,num_trials):\n",
    "    '''\n",
    "    Calculates the spectral gap across sequential bipartite graphs in a neural net\n",
    "    - list_of_E a list of sequential connectivity matrices\n",
    "    - p a probability at which to subset the list_of_E\n",
    "    - num_trials how many spectral gaps to measure at each layer\n",
    "    '''\n",
    "    Q_list = list()\n",
    "    for E in list_of_E:\n",
    "        Q,q_list = calculate_random_spectral_gaps(E,p,num_trials)\n",
    "        Q_list(Q)\n",
    "    \n",
    "    QQ = max(Q_list)\n",
    "    return(QQ,Q_list)"
   ]
  },
  {
   "cell_type": "code",
   "execution_count": null,
   "metadata": {
    "collapsed": true
   },
   "outputs": [],
   "source": []
  }
 ],
 "metadata": {
  "kernelspec": {
   "display_name": "Python 2",
   "language": "python",
   "name": "python2"
  },
  "language_info": {
   "codemirror_mode": {
    "name": "ipython",
    "version": 2
   },
   "file_extension": ".py",
   "mimetype": "text/x-python",
   "name": "python",
   "nbconvert_exporter": "python",
   "pygments_lexer": "ipython2",
   "version": "2.7.11"
  }
 },
 "nbformat": 4,
 "nbformat_minor": 0
}
